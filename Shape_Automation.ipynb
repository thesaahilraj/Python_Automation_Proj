{
 "cells": [
  {
   "cell_type": "markdown",
   "metadata": {},
   "source": [
    "# Shape Automation using Python"
   ]
  },
  {
   "cell_type": "markdown",
   "metadata": {},
   "source": [
    "#### By github.com/thesaahilraj"
   ]
  },
  {
   "cell_type": "code",
   "execution_count": 2,
   "metadata": {},
   "outputs": [],
   "source": [
    "#import PyAutogui Lib\n",
    "import pyautogui"
   ]
  },
  {
   "cell_type": "code",
   "execution_count": 3,
   "metadata": {},
   "outputs": [],
   "source": [
    "#adding a Click Function\n",
    "pyautogui.click()"
   ]
  },
  {
   "cell_type": "code",
   "execution_count": 16,
   "metadata": {},
   "outputs": [
    {
     "data": {
      "text/plain": [
       "Size(width=1920, height=1080)"
      ]
     },
     "execution_count": 16,
     "metadata": {},
     "output_type": "execute_result"
    }
   ],
   "source": [
    "#Get Screen Size\n",
    "pyautogui.size()"
   ]
  },
  {
   "cell_type": "raw",
   "metadata": {},
   "source": [
    "Open a Drawing Software. eg MS Paint"
   ]
  },
  {
   "cell_type": "code",
   "execution_count": null,
   "metadata": {},
   "outputs": [],
   "source": [
    "#Draw Square\n",
    "distance = 200\n",
    "while distance > 0 :\n",
    "    pyautogui.dragRel(distance,0,duration = 2)\n",
    "    pyautogui.dragRel(0,distance,duration = 2)\n",
    "    pyautogui.dragRel(-distance,0,duration = 2)\n",
    "    pyautogui.dragRel(0,-distance,duration = 2)\n",
    "    distance = 0"
   ]
  },
  {
   "cell_type": "code",
   "execution_count": 14,
   "metadata": {},
   "outputs": [],
   "source": [
    "#Draw Rectangle\n",
    "distance = 200\n",
    "while distance > 0 :\n",
    "    pyautogui.dragRel(distance,0,duration = 1)\n",
    "    pyautogui.dragRel(0,distance+100,duration = 1)\n",
    "    pyautogui.dragRel(-distance,0,duration = 1)\n",
    "    pyautogui.dragRel(0,-distance-100,duration = 1)\n",
    "    distance = 0"
   ]
  },
  {
   "cell_type": "code",
   "execution_count": 38,
   "metadata": {},
   "outputs": [],
   "source": [
    "#Draw Triangle\n",
    "distance = 9\n",
    "pyautogui.moveTo(500,700)\n",
    "while distance > 0 :\n",
    "    pyautogui.click()\n",
    "    pyautogui.dragTo(960,380,duration=1)\n",
    "    pyautogui.dragTo(1400,700,duration=1)\n",
    "    pyautogui.dragTo(500,700,duration=1)\n",
    "    distance = 0"
   ]
  },
  {
   "cell_type": "code",
   "execution_count": 44,
   "metadata": {},
   "outputs": [],
   "source": [
    "#Draw Square Spiral\n",
    "distance = 500\n",
    "while distance > 0:\n",
    "        pyautogui.drag(distance, 0, duration=0.1)\n",
    "        distance -= 5\n",
    "        pyautogui.drag(0, distance, duration=0.1)\n",
    "        pyautogui.drag(-distance, 0, duration=0.1)\n",
    "        distance -= 5\n",
    "        pyautogui.drag(0, -distance, duration=0.1)"
   ]
  }
 ],
 "metadata": {
  "kernelspec": {
   "display_name": "Python 3",
   "language": "python",
   "name": "python3"
  },
  "language_info": {
   "codemirror_mode": {
    "name": "ipython",
    "version": 3
   },
   "file_extension": ".py",
   "mimetype": "text/x-python",
   "name": "python",
   "nbconvert_exporter": "python",
   "pygments_lexer": "ipython3",
   "version": "3.8.5"
  }
 },
 "nbformat": 4,
 "nbformat_minor": 4
}
